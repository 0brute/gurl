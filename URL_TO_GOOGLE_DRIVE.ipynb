{
  "nbformat": 4,
  "nbformat_minor": 0,
  "metadata": {
    "colab": {
      "name": "URL TO GOOGLE DRIVE.ipynb",
      "provenance": [],
      "authorship_tag": "ABX9TyNddUb9DYC6klDGZv8S+EB+",
      "include_colab_link": true
    },
    "kernelspec": {
      "name": "python3",
      "display_name": "Python 3"
    }
  },
  "cells": [
    {
      "cell_type": "markdown",
      "metadata": {
        "id": "view-in-github",
        "colab_type": "text"
      },
      "source": [
        "<a href=\"https://colab.research.google.com/github/Kamrulofficial/Gurl/blob/main/URL_TO_GOOGLE_DRIVE.ipynb\" target=\"_parent\"><img src=\"https://colab.research.google.com/assets/colab-badge.svg\" alt=\"Open In Colab\"/></a>"
      ]
    },
    {
      "cell_type": "markdown",
      "metadata": {
        "id": "PnUdhqn8of3x"
      },
      "source": [
        "# <br><center><img src='https://i.imgur.com/C3kirv9.png' height=\"151\" alt=\"Kamrul\"/></center>\r\n",
        "#<center><h3>TRANSFERE NOW! !!OTHER GOOGLE DRIVE TO MY GOOGLE DRIVE :(</h3></center><br>\r\n",
        "# <center> ALL CODE BY [**KAMRUL HOSSAIN**](https://facebook.com/kamrul5258) :(\r\n",
        "\r\n",
        "<center > :) DON'T TRY TO COPY MY CODE :( </center>"
      ]
    },
    {
      "cell_type": "code",
      "metadata": {
        "cellView": "form",
        "id": "zMGMdzdYZ5D0"
      },
      "source": [
        "#@markdown <br><center><h2> RUN THIS CELL TO MOUNT GOOGLE DRIVE</h2></center></br>\r\n",
        "MODE = \"MOUNT\" #@param [\"MOUNT\", \"UNMOUNT\"]\r\n",
        "from google.colab import drive\r\n",
        "drive.mount('/content/drive', force_remount=True)"
      ],
      "execution_count": null,
      "outputs": []
    },
    {
      "cell_type": "code",
      "metadata": {
        "id": "sHwQqycc55pQ"
      },
      "source": [
        "!sudo cp -r -v \"Enter other File Location/\" \"Enter Your File Location\""
      ],
      "execution_count": null,
      "outputs": []
    }
  ]
}
